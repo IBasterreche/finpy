{
 "cells": [
  {
   "cell_type": "markdown",
   "metadata": {},
   "source": [
    "# finpy\n",
    "\n",
    "**NOTE:**\n",
    "\n",
    "_Unfortunately, this notebook is unavailable as it is currently under development. A pre-release version will be available as soon as posible._ \n",
    "\n",
    "_Thank you for your patience!_"
   ]
  }
 ],
 "metadata": {
  "language_info": {
   "name": "python"
  }
 },
 "nbformat": 4,
 "nbformat_minor": 2
}
